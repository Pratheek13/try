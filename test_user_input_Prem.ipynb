{
 "cells": [
  {
   "cell_type": "code",
   "execution_count": 1,
   "id": "53857544-b569-4737-a99f-e3d121bc6519",
   "metadata": {},
   "outputs": [
    {
     "name": "stdout",
     "output_type": "stream",
     "text": [
      "RandomForest Accuracy: 0.9777777777777777\n",
      "\n",
      "Enter feature values for plant recommendation:\n",
      "Possible values for 'Scientific Name': ['Capsicum annuum', 'Coriandrum sativum', 'Cucurbita pepo', 'Daucus carota', 'Lactuca sativa', 'Mentha', 'Ocimum basilicum', 'Raphanus sativus', 'Solanum lycopersicum', 'Spinacia oleracea']\n"
     ]
    },
    {
     "name": "stdin",
     "output_type": "stream",
     "text": [
      "Enter value for 'Scientific Name':  Mentha\n"
     ]
    },
    {
     "name": "stdout",
     "output_type": "stream",
     "text": [
      "Possible values for 'Growth Type': ['Herb', 'Shrub', 'Vine']\n"
     ]
    },
    {
     "name": "stdin",
     "output_type": "stream",
     "text": [
      "Enter value for 'Growth Type':  Herb\n"
     ]
    },
    {
     "name": "stdout",
     "output_type": "stream",
     "text": [
      "Possible values for 'Medicinal Use': ['No', 'Yes']\n"
     ]
    },
    {
     "name": "stdin",
     "output_type": "stream",
     "text": [
      "Enter value for 'Medicinal Use':  No\n",
      "Enter numeric value for 'Optimal Temperature (°C)':  15\n",
      "Enter numeric value for 'Humidity Preference (%)':  65\n"
     ]
    },
    {
     "name": "stdout",
     "output_type": "stream",
     "text": [
      "Possible values for 'Preferred Soil Type': ['Clay', 'Loam', 'Peaty', 'Sandy', 'Silt']\n"
     ]
    },
    {
     "name": "stdin",
     "output_type": "stream",
     "text": [
      "Enter value for 'Preferred Soil Type':  Loam\n",
      "Enter numeric value for 'Soil pH Range':  7.8\n",
      "Enter numeric value for 'Germination Time (Days)':  6\n",
      "Enter numeric value for 'Time to Harvest (Days)':  6\n"
     ]
    },
    {
     "name": "stdout",
     "output_type": "stream",
     "text": [
      "Possible values for 'Common Pests': ['Aphids', 'Bacterial', 'Caterpillars', 'Fungal', nan]\n"
     ]
    },
    {
     "name": "stdin",
     "output_type": "stream",
     "text": [
      "Enter value for 'Common Pests':  Fungal\n"
     ]
    },
    {
     "name": "stdout",
     "output_type": "stream",
     "text": [
      "Possible values for 'Nitrogen Need': ['High', 'Low', 'Medium']\n"
     ]
    },
    {
     "name": "stdin",
     "output_type": "stream",
     "text": [
      "Enter value for 'Nitrogen Need':  Low\n"
     ]
    },
    {
     "name": "stdout",
     "output_type": "stream",
     "text": [
      "Possible values for 'Phosphorus Need': ['High', 'Low', 'Medium']\n"
     ]
    },
    {
     "name": "stdin",
     "output_type": "stream",
     "text": [
      "Enter value for 'Phosphorus Need':  Low\n"
     ]
    },
    {
     "name": "stdout",
     "output_type": "stream",
     "text": [
      "Possible values for 'Potassium Need': ['High', 'Low', 'Medium']\n"
     ]
    },
    {
     "name": "stdin",
     "output_type": "stream",
     "text": [
      "Enter value for 'Potassium Need':  Low\n"
     ]
    },
    {
     "name": "stdout",
     "output_type": "stream",
     "text": [
      "Possible values for 'Suitable for Region': ['Bangalore', 'Chennai', 'Delhi', 'Hyderabad', 'Mumbai']\n"
     ]
    },
    {
     "name": "stdin",
     "output_type": "stream",
     "text": [
      "Enter value for 'Suitable for Region':  Delhi\n"
     ]
    },
    {
     "name": "stdout",
     "output_type": "stream",
     "text": [
      "Possible values for 'Suitable for Season': ['Monsoon', 'Summer', 'Winter']\n"
     ]
    },
    {
     "name": "stdin",
     "output_type": "stream",
     "text": [
      "Enter value for 'Suitable for Season':  Summer\n"
     ]
    },
    {
     "name": "stdout",
     "output_type": "stream",
     "text": [
      "\n",
      "Recommended Plant: Lettuce\n"
     ]
    }
   ],
   "source": [
    "import pandas as pd\n",
    "import numpy as np\n",
    "from sklearn.model_selection import train_test_split\n",
    "from sklearn.preprocessing import StandardScaler, LabelEncoder\n",
    "from sklearn.ensemble import RandomForestClassifier\n",
    "from sklearn.metrics import accuracy_score\n",
    "\n",
    "# Load dataset\n",
    "df = pd.read_csv(\"plant_recommendation_dataset.csv\")\n",
    "\n",
    "# Feature selection\n",
    "features_to_exclude = [\n",
    "    'Disease Resistance', 'Pruning Requirement', 'Companion Planting Suitability',\n",
    "    'Water Requirement', 'Irrigation Frequency', 'Recommended Organic Fertilizers',\n",
    "    'Climate Suitability', 'Sunlight Requirement', 'Edible'\n",
    "]\n",
    "all_features = [col for col in df.columns if col not in features_to_exclude]\n",
    "df = df[all_features]\n",
    "\n",
    "# Label encoding for non-numeric columns (except target 'Common Name')\n",
    "non_numeric_columns = df.select_dtypes(exclude=['int64', 'float64']).columns\n",
    "non_numeric_columns = [col for col in non_numeric_columns if col != 'Common Name']\n",
    "\n",
    "label_encoders = {}\n",
    "for col in non_numeric_columns:\n",
    "    le = LabelEncoder()\n",
    "    df[col] = le.fit_transform(df[col])\n",
    "    label_encoders[col] = le\n",
    "\n",
    "# Map 'Common Name' to unique IDs\n",
    "common_name_dict = {name: idx for idx, name in enumerate(df['Common Name'].unique(), start=1)}\n",
    "reverse_common_name_dict = {v: k for k, v in common_name_dict.items()}\n",
    "df['Common Name'] = df['Common Name'].map(common_name_dict)\n",
    "\n",
    "# Split dataset\n",
    "X = df.drop('Common Name', axis=1)\n",
    "y = df['Common Name']\n",
    "X_train, X_test, y_train, y_test = train_test_split(X, y, test_size=0.2, random_state=42)\n",
    "\n",
    "# Feature scaling\n",
    "scaler = StandardScaler()\n",
    "X_train = scaler.fit_transform(X_train)\n",
    "X_test = scaler.transform(X_test)\n",
    "\n",
    "# Train RandomForest model\n",
    "rf_model = RandomForestClassifier(random_state=42)\n",
    "rf_model.fit(X_train, y_train)\n",
    "y_pred = rf_model.predict(X_test)\n",
    "print(\"RandomForest Accuracy:\", accuracy_score(y_test, y_pred))\n",
    "\n",
    "# Prediction function\n",
    "def predict_plant(features):\n",
    "    input_df = pd.DataFrame([features], columns=X.columns)\n",
    "    input_scaled = scaler.transform(input_df)\n",
    "    prediction = rf_model.predict(input_scaled)\n",
    "    return reverse_common_name_dict.get(prediction[0], \"Unknown\")\n",
    "\n",
    "# User input for features\n",
    "def get_user_input():\n",
    "    user_input = {}\n",
    "    print(\"\\nEnter feature values for plant recommendation:\")\n",
    "    for feature in X.columns:\n",
    "        if feature in label_encoders:\n",
    "            encoder = label_encoders[feature]\n",
    "            unique_values = encoder.classes_\n",
    "            print(f\"Possible values for '{feature}': {list(unique_values)}\")\n",
    "            while True:\n",
    "                value = input(f\"Enter value for '{feature}': \")\n",
    "                if value in unique_values:\n",
    "                    user_input[feature] = encoder.transform([value])[0]\n",
    "                    break\n",
    "                else:\n",
    "                    print(f\"Invalid input! Please choose from: {list(unique_values)}\")\n",
    "        else:\n",
    "            while True:\n",
    "                try:\n",
    "                    value = float(input(f\"Enter numeric value for '{feature}': \"))\n",
    "                    user_input[feature] = value\n",
    "                    break\n",
    "                except ValueError:\n",
    "                    print(f\"Invalid input! Please enter a numeric value.\")\n",
    "    return user_input\n",
    "\n",
    "# Get user input and predict\n",
    "user_input = get_user_input()\n",
    "prediction = predict_plant(list(user_input.values()))\n",
    "print(f\"\\nRecommended Plant: {prediction}\")\n"
   ]
  },
  {
   "cell_type": "code",
   "execution_count": 3,
   "id": "49c42e6d-1aa9-4846-8fd7-f996cb4d820e",
   "metadata": {},
   "outputs": [
    {
     "name": "stdout",
     "output_type": "stream",
     "text": [
      "Model and preprocessing files saved successfully!\n"
     ]
    }
   ],
   "source": [
    "import pickle\n",
    "\n",
    "# Assuming you already trained your model and preprocessing steps\n",
    "# `rf_model`, `scaler`, `label_encoders`, `common_name_dict` should be defined\n",
    "\n",
    "# Save the trained RandomForest model\n",
    "with open('plant_model.pkl', 'wb') as f:\n",
    "    pickle.dump(rf_model, f)\n",
    "\n",
    "# Save the feature scaler\n",
    "with open('scaler.pkl', 'wb') as f:\n",
    "    pickle.dump(scaler, f)\n",
    "\n",
    "# Save label encoders for categorical features\n",
    "with open('label_encoders.pkl', 'wb') as f:\n",
    "    pickle.dump(label_encoders, f)\n",
    "\n",
    "# Save common name mapping dictionary\n",
    "with open('common_name_dict.pkl', 'wb') as f:\n",
    "    pickle.dump(common_name_dict, f)\n",
    "\n",
    "print(\"Model and preprocessing files saved successfully!\")\n"
   ]
  },
  {
   "cell_type": "code",
   "execution_count": null,
   "id": "1c99546f-17fc-48f5-a8a2-f1956457458a",
   "metadata": {},
   "outputs": [],
   "source": []
  }
 ],
 "metadata": {
  "kernelspec": {
   "display_name": "Python [conda env:base] *",
   "language": "python",
   "name": "conda-base-py"
  },
  "language_info": {
   "codemirror_mode": {
    "name": "ipython",
    "version": 3
   },
   "file_extension": ".py",
   "mimetype": "text/x-python",
   "name": "python",
   "nbconvert_exporter": "python",
   "pygments_lexer": "ipython3",
   "version": "3.12.4"
  }
 },
 "nbformat": 4,
 "nbformat_minor": 5
}
